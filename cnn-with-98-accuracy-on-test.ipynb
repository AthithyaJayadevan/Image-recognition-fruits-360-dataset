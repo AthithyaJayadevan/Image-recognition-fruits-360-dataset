{
 "cells": [
  {
   "cell_type": "code",
   "execution_count": 14,
   "metadata": {
    "_cell_guid": "79c7e3d0-c299-4dcb-8224-4455121ee9b0",
    "_uuid": "d629ff2d2480ee46fbb7e2d37f6b5fab8052498a"
   },
   "outputs": [],
   "source": [
    "import pandas as pd\n",
    "import tensorflow as tf\n",
    "import keras\n",
    "import cv2\n",
    "import os\n",
    "import imageio\n",
    "import numpy as np\n",
    "from sklearn.model_selection import train_test_split\n",
    "from keras import models\n",
    "from keras.layers import Dense, Dropout, Flatten, Activation, Conv2D, MaxPooling2D"
   ]
  },
  {
   "cell_type": "code",
   "execution_count": 15,
   "metadata": {},
   "outputs": [],
   "source": [
    "train_dir = r'C:\\Users\\atjayade\\Downloads\\fruits-360_dataset\\fruits-360\\Training'\n",
    "test_dir= r'C:\\Users\\atjayade\\Downloads\\fruits-360_dataset\\fruits-360\\Test'\n",
    "train_classes={}\n",
    "test_classes={}\n",
    "i=0\n",
    "for item in os.listdir(train_dir):\n",
    "    cls = item.split(\" \")[0]\n",
    "    if cls not in train_classes:\n",
    "#         print(i)\n",
    "        train_classes[cls] = i\n",
    "        i+=1"
   ]
  },
  {
   "cell_type": "code",
   "execution_count": 16,
   "metadata": {},
   "outputs": [],
   "source": [
    "i=0\n",
    "for item in os.listdir(test_dir):\n",
    "    cls = item.split(\" \")[0]\n",
    "    if cls not in test_classes:\n",
    "#         print(i)\n",
    "        test_classes[cls] = i\n",
    "        i+=1"
   ]
  },
  {
   "cell_type": "code",
   "execution_count": 17,
   "metadata": {},
   "outputs": [],
   "source": [
    "x = []\n",
    "y=[]\n",
    "\n",
    "for item in os.listdir(train_dir):\n",
    "    for image in os.listdir(train_dir+'/'+item):\n",
    "        #print(image)\n",
    "        img = imageio.imread(train_dir+'/'+item+'/'+image)\n",
    "        x.append(img)\n",
    "        cls = train_classes[item.split(\" \")[0]]\n",
    "        y.append(cls)\n",
    "\n",
    "arr_x=np.array(x)\n",
    "arr_y=np.array(y)\n",
    "new_y = keras.utils.to_categorical(arr_y)\n"
   ]
  },
  {
   "cell_type": "code",
   "execution_count": 40,
   "metadata": {},
   "outputs": [],
   "source": [
    "x_train, x_test, y_train, y_test = train_test_split(arr_x, new_y, test_size=0.25, random_state=42)"
   ]
  },
  {
   "cell_type": "code",
   "execution_count": 75,
   "metadata": {},
   "outputs": [],
   "source": [
    "model = models.Sequential()"
   ]
  },
  {
   "cell_type": "code",
   "execution_count": 76,
   "metadata": {},
   "outputs": [],
   "source": [
    "\n",
    "\n",
    "model.add(Conv2D(filters=32, kernel_size=(3,3), padding='SAME', input_shape=x_train[0].shape))\n",
    "\n",
    "model.add(Activation('relu'))\n",
    "model.add(MaxPooling2D(pool_size=(2,2)))\n",
    "\n",
    "model.add(Conv2D(filters=64, kernel_size=(3,3), padding='SAME'))\n",
    "model.add(Activation('relu'))\n",
    "model.add(MaxPooling2D(pool_size=(2,2)))\n",
    "model.add(Dropout(rate=0.3))\n",
    "\n",
    "model.add(Conv2D(filters=128, kernel_size=(3,3), padding='SAME'))\n",
    "model.add(Activation('relu'))\n",
    "model.add(MaxPooling2D(pool_size=(2,2)))\n",
    "model.add(Dropout(rate=0.4))\n",
    "\n",
    "model.add(Conv2D(filters=256, kernel_size=(3,3), padding='SAME'))\n",
    "model.add(Activation('relu'))\n",
    "model.add(MaxPooling2D(pool_size=(2,2)))\n",
    "model.add(Dropout(rate=0.35))\n",
    "\n",
    "model.add(Conv2D(filters=128, kernel_size=(3,3), padding='SAME'))\n",
    "model.add(Activation('relu'))\n",
    "model.add(MaxPooling2D(pool_size=(2,2)))\n",
    "model.add(Dropout(rate=0.4))\n",
    "\n",
    "model.add(Conv2D(filters=64, kernel_size=(3,3), padding='SAME'))\n",
    "model.add(Activation('relu'))\n",
    "model.add(MaxPooling2D(pool_size=(2,2)))\n",
    "\n",
    "model.add(Conv2D(filters=32, kernel_size=(3,3), padding='SAME'))\n",
    "model.add(Activation('relu'))\n",
    "model.add(MaxPooling2D(pool_size=(1,1)))\n",
    "\n",
    "model.add(Flatten())\n",
    "model.add(Dense(1024))\n",
    "model.add(Activation('relu'))\n",
    "model.add(Dropout(rate=0.3))\n",
    "\n",
    "model.add(Dense(512))\n",
    "model.add(Activation('relu'))\n",
    "model.add(Dropout(rate=0.2))\n",
    "\n",
    "model.add(Dense(63))\n",
    "model.add(Activation('softmax'))\n"
   ]
  },
  {
   "cell_type": "code",
   "execution_count": 77,
   "metadata": {},
   "outputs": [
    {
     "name": "stdout",
     "output_type": "stream",
     "text": [
      "_________________________________________________________________\n",
      "Layer (type)                 Output Shape              Param #   \n",
      "=================================================================\n",
      "conv2d_99 (Conv2D)           (None, 100, 100, 32)      896       \n",
      "_________________________________________________________________\n",
      "activation_128 (Activation)  (None, 100, 100, 32)      0         \n",
      "_________________________________________________________________\n",
      "max_pooling2d_98 (MaxPooling (None, 50, 50, 32)        0         \n",
      "_________________________________________________________________\n",
      "conv2d_100 (Conv2D)          (None, 50, 50, 64)        18496     \n",
      "_________________________________________________________________\n",
      "activation_129 (Activation)  (None, 50, 50, 64)        0         \n",
      "_________________________________________________________________\n",
      "max_pooling2d_99 (MaxPooling (None, 25, 25, 64)        0         \n",
      "_________________________________________________________________\n",
      "dropout_79 (Dropout)         (None, 25, 25, 64)        0         \n",
      "_________________________________________________________________\n",
      "conv2d_101 (Conv2D)          (None, 25, 25, 128)       73856     \n",
      "_________________________________________________________________\n",
      "activation_130 (Activation)  (None, 25, 25, 128)       0         \n",
      "_________________________________________________________________\n",
      "max_pooling2d_100 (MaxPoolin (None, 12, 12, 128)       0         \n",
      "_________________________________________________________________\n",
      "dropout_80 (Dropout)         (None, 12, 12, 128)       0         \n",
      "_________________________________________________________________\n",
      "conv2d_102 (Conv2D)          (None, 12, 12, 256)       295168    \n",
      "_________________________________________________________________\n",
      "activation_131 (Activation)  (None, 12, 12, 256)       0         \n",
      "_________________________________________________________________\n",
      "max_pooling2d_101 (MaxPoolin (None, 6, 6, 256)         0         \n",
      "_________________________________________________________________\n",
      "dropout_81 (Dropout)         (None, 6, 6, 256)         0         \n",
      "_________________________________________________________________\n",
      "conv2d_103 (Conv2D)          (None, 6, 6, 128)         295040    \n",
      "_________________________________________________________________\n",
      "activation_132 (Activation)  (None, 6, 6, 128)         0         \n",
      "_________________________________________________________________\n",
      "max_pooling2d_102 (MaxPoolin (None, 3, 3, 128)         0         \n",
      "_________________________________________________________________\n",
      "dropout_82 (Dropout)         (None, 3, 3, 128)         0         \n",
      "_________________________________________________________________\n",
      "conv2d_104 (Conv2D)          (None, 3, 3, 64)          73792     \n",
      "_________________________________________________________________\n",
      "activation_133 (Activation)  (None, 3, 3, 64)          0         \n",
      "_________________________________________________________________\n",
      "max_pooling2d_103 (MaxPoolin (None, 1, 1, 64)          0         \n",
      "_________________________________________________________________\n",
      "conv2d_105 (Conv2D)          (None, 1, 1, 32)          18464     \n",
      "_________________________________________________________________\n",
      "activation_134 (Activation)  (None, 1, 1, 32)          0         \n",
      "_________________________________________________________________\n",
      "max_pooling2d_104 (MaxPoolin (None, 1, 1, 32)          0         \n",
      "_________________________________________________________________\n",
      "flatten_15 (Flatten)         (None, 32)                0         \n",
      "_________________________________________________________________\n",
      "dense_31 (Dense)             (None, 1024)              33792     \n",
      "_________________________________________________________________\n",
      "activation_135 (Activation)  (None, 1024)              0         \n",
      "_________________________________________________________________\n",
      "dropout_83 (Dropout)         (None, 1024)              0         \n",
      "_________________________________________________________________\n",
      "dense_32 (Dense)             (None, 512)               524800    \n",
      "_________________________________________________________________\n",
      "activation_136 (Activation)  (None, 512)               0         \n",
      "_________________________________________________________________\n",
      "dropout_84 (Dropout)         (None, 512)               0         \n",
      "_________________________________________________________________\n",
      "dense_33 (Dense)             (None, 63)                32319     \n",
      "_________________________________________________________________\n",
      "activation_137 (Activation)  (None, 63)                0         \n",
      "=================================================================\n",
      "Total params: 1,366,623\n",
      "Trainable params: 1,366,623\n",
      "Non-trainable params: 0\n",
      "_________________________________________________________________\n"
     ]
    }
   ],
   "source": [
    "opt = keras.optimizers.Adam()\n",
    "model.compile(optimizer=opt, loss='categorical_crossentropy', metrics=['accuracy'])\n",
    "model.summary()"
   ]
  },
  {
   "cell_type": "code",
   "execution_count": 78,
   "metadata": {},
   "outputs": [
    {
     "name": "stdout",
     "output_type": "stream",
     "text": [
      "Epoch 1/10\n",
      "45373/45373 [==============================] - 1060s 23ms/step - loss: 1.9522 - acc: 0.4415\n",
      "Epoch 2/10\n",
      "45373/45373 [==============================] - 1100s 24ms/step - loss: 0.5483 - acc: 0.8211\n",
      "Epoch 3/10\n",
      "45373/45373 [==============================] - 1026s 23ms/step - loss: 0.3761 - acc: 0.8811\n",
      "Epoch 4/10\n",
      "45373/45373 [==============================] - 817s 18ms/step - loss: 0.3129 - acc: 0.9054\n",
      "Epoch 5/10\n",
      "45373/45373 [==============================] - 812s 18ms/step - loss: 0.2991 - acc: 0.9120\n",
      "Epoch 6/10\n",
      "45373/45373 [==============================] - 810s 18ms/step - loss: 0.2960 - acc: 0.9176\n",
      "Epoch 7/10\n",
      "45373/45373 [==============================] - 809s 18ms/step - loss: 0.3028 - acc: 0.9179\n",
      "Epoch 8/10\n",
      "45373/45373 [==============================] - 809s 18ms/step - loss: 0.3346 - acc: 0.9132\n",
      "Epoch 9/10\n",
      "45373/45373 [==============================] - 809s 18ms/step - loss: 0.2820 - acc: 0.9278\n",
      "Epoch 10/10\n",
      "45373/45373 [==============================] - 808s 18ms/step - loss: 0.3339 - acc: 0.9199\n"
     ]
    },
    {
     "data": {
      "text/plain": [
       "<keras.callbacks.History at 0x1da1c0cfb70>"
      ]
     },
     "execution_count": 78,
     "metadata": {},
     "output_type": "execute_result"
    }
   ],
   "source": [
    "model.fit(x_train, y_train, epochs=10)"
   ]
  },
  {
   "cell_type": "code",
   "execution_count": 79,
   "metadata": {},
   "outputs": [
    {
     "name": "stdout",
     "output_type": "stream",
     "text": [
      "15125/15125 [==============================] - 86s 6ms/step\n"
     ]
    }
   ],
   "source": [
    "loss, score = model.evaluate(x_test, y_test)"
   ]
  },
  {
   "cell_type": "code",
   "execution_count": 80,
   "metadata": {},
   "outputs": [
    {
     "name": "stdout",
     "output_type": "stream",
     "text": [
      "0.9831404958677686\n"
     ]
    }
   ],
   "source": [
    "print(score)"
   ]
  },
  {
   "cell_type": "code",
   "execution_count": 81,
   "metadata": {},
   "outputs": [],
   "source": [
    "test_x = []\n",
    "test_y=[]\n",
    "\n",
    "for item in os.listdir(test_dir):\n",
    "    for image in os.listdir(test_dir+'/'+item):\n",
    "        #print(image)\n",
    "        img = imageio.imread(test_dir+'/'+item+'/'+image)\n",
    "        test_x.append(img)\n",
    "        cls = test_classes[item.split(\" \")[0]]\n",
    "        test_y.append(cls)\n",
    "\n",
    "t_x=np.array(test_x)\n",
    "t_y=np.array(test_y)\n",
    "new_t_y = keras.utils.to_categorical(t_y)\n"
   ]
  },
  {
   "cell_type": "code",
   "execution_count": 82,
   "metadata": {},
   "outputs": [
    {
     "name": "stdout",
     "output_type": "stream",
     "text": [
      "20620/20620 [==============================] - 112s 5ms/step\n"
     ]
    }
   ],
   "source": [
    "t_loss, t_score = model.evaluate(t_x, new_t_y)"
   ]
  },
  {
   "cell_type": "code",
   "execution_count": 83,
   "metadata": {},
   "outputs": [
    {
     "name": "stdout",
     "output_type": "stream",
     "text": [
      "0.9831404958677686\n",
      "0.07652763594900959\n"
     ]
    }
   ],
   "source": [
    "print(score)\n",
    "print(loss)"
   ]
  },
  {
   "cell_type": "code",
   "execution_count": null,
   "metadata": {},
   "outputs": [],
   "source": []
  }
 ],
 "metadata": {
  "kernelspec": {
   "display_name": "Python 3",
   "language": "python",
   "name": "python3"
  },
  "language_info": {
   "codemirror_mode": {
    "name": "ipython",
    "version": 3
   },
   "file_extension": ".py",
   "mimetype": "text/x-python",
   "name": "python",
   "nbconvert_exporter": "python",
   "pygments_lexer": "ipython3",
   "version": "3.7.3"
  }
 },
 "nbformat": 4,
 "nbformat_minor": 1
}
